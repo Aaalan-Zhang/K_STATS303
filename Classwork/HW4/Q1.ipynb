{
 "cells": [
  {
   "cell_type": "code",
   "execution_count": 1,
   "metadata": {},
   "outputs": [],
   "source": [
    "import numpy as np\n",
    "import matplotlib.pyplot as plt\n",
    "plt.rc('text', usetex = True)"
   ]
  },
  {
   "cell_type": "markdown",
   "metadata": {},
   "source": [
    "# Q1.1"
   ]
  },
  {
   "cell_type": "code",
   "execution_count": 2,
   "metadata": {},
   "outputs": [],
   "source": [
    "np.random.seed(0)\n",
    "def p(theta):\n",
    "    return np.exp(-((1 - theta[0]) ** 2 + 100 * (theta[1] - theta[0] ** 2) ** 2) / 20)\n",
    "\n",
    "MC = 10000\n",
    "x = [[0,0] for i in range(MC)]\n",
    "x[0] = [10 * np.random.random() - 5, 10 * np.random.random() - 5]\n",
    " \n",
    "for t in range(MC):\n",
    "    x_star = np.random.multivariate_normal(x[t - 1], [[0.1, 0], [0, 0.1]])\n",
    "    alpha = min(1, (p(x_star) / p(x[t - 1])))\n",
    " \n",
    "    u = np.random.random()\n",
    "    if u <= alpha:\n",
    "        x[t] = list(x_star)\n",
    "    else:\n",
    "        x[t] = x[t - 1]\n",
    "x = np.array(x)"
   ]
  },
  {
   "cell_type": "code",
   "execution_count": 3,
   "metadata": {},
   "outputs": [
    {
     "data": {
      "image/png": "[encoded data removed]",
      "text/plain": [
       "<Figure size 432x288 with 1 Axes>"
      ]
     },
     "metadata": {
      "needs_background": "light"
     },
     "output_type": "display_data"
    }
   ],
   "source": [
    "plt.scatter(x[:, 0], x[:, 1])\n",
    "plt.xlabel('$x_1$', fontsize = 15)              \n",
    "plt.ylabel('$x_2$', fontsize = 15)   \n",
    "plt.grid()\n",
    "plt.show()"
   ]
  },
  {
   "cell_type": "markdown",
   "metadata": {},
   "source": [
    "# Q1.2"
   ]
  },
  {
   "cell_type": "code",
   "execution_count": 4,
   "metadata": {},
   "outputs": [
    {
     "name": "stdout",
     "output_type": "stream",
     "text": [
      "0.8071897770948071\n"
     ]
    }
   ],
   "source": [
    "def f(x):\n",
    "    return 1 / (1 + np.exp(-(x[0] + x[1])))\n",
    "\n",
    "Sigma = 0\n",
    "\n",
    "for x_i in x:\n",
    "    Sigma += f(x_i)\n",
    "s_tilde = Sigma / len(x)\n",
    "print(s_tilde)"
   ]
  },
  {
   "cell_type": "code",
   "execution_count": null,
   "metadata": {},
   "outputs": [],
   "source": []
  }
 ],
 "metadata": {
  "interpreter": {
   "hash": "40d3a090f54c6569ab1632332b64b2c03c39dcf918b08424e98f38b5ae0af88f"
  },
  "kernelspec": {
   "display_name": "Python 3.8.5",
   "language": "python",
   "name": "python3"
  },
  "language_info": {
   "codemirror_mode": {
    "name": "ipython",
    "version": 3
   },
   "file_extension": ".py",
   "mimetype": "text/x-python",
   "name": "python",
   "nbconvert_exporter": "python",
   "pygments_lexer": "ipython3",
   "version": "3.8.5"
  },
  "orig_nbformat": 4
 },
 "nbformat": 4,
 "nbformat_minor": 2
}
